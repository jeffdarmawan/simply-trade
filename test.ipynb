{
 "cells": [
  {
   "cell_type": "code",
   "execution_count": 10,
   "metadata": {},
   "outputs": [],
   "source": [
    "import oandapyV20\n",
    "import pandas as pd\n",
    "from Relative_Functions import OandaAPI\n",
    "import oandapyV20.endpoints.trades as trades"
   ]
  },
  {
   "cell_type": "code",
   "execution_count": 11,
   "metadata": {},
   "outputs": [],
   "source": [
    "access_token = \"3f0f1b513d44797ff63c09d9da612561-6480f119d75e63cea1e420564d12b6f1\"\n",
    "account_id = \"101-003-28603773-001\"\n",
    "client = oandapyV20.API(access_token=access_token, environment=\"practice\")\n",
    "api = OandaAPI(access_token)"
   ]
  },
  {
   "cell_type": "code",
   "execution_count": 12,
   "metadata": {},
   "outputs": [
    {
     "data": {
      "text/html": [
       "<div>\n",
       "<style scoped>\n",
       "    .dataframe tbody tr th:only-of-type {\n",
       "        vertical-align: middle;\n",
       "    }\n",
       "\n",
       "    .dataframe tbody tr th {\n",
       "        vertical-align: top;\n",
       "    }\n",
       "\n",
       "    .dataframe thead th {\n",
       "        text-align: right;\n",
       "    }\n",
       "</style>\n",
       "<table border=\"1\" class=\"dataframe\">\n",
       "  <thead>\n",
       "    <tr style=\"text-align: right;\">\n",
       "      <th></th>\n",
       "      <th>openTime</th>\n",
       "      <th>Instrument</th>\n",
       "      <th>Price</th>\n",
       "      <th>Initial Units</th>\n",
       "      <th>Current Units</th>\n",
       "      <th>Unrealized P&amp;L</th>\n",
       "      <th>Realized P&amp;L</th>\n",
       "    </tr>\n",
       "  </thead>\n",
       "  <tbody>\n",
       "    <tr>\n",
       "      <th>0</th>\n",
       "      <td>2024-04-15T06:39:25.989142292Z</td>\n",
       "      <td>EUR_USD</td>\n",
       "      <td>1.06583</td>\n",
       "      <td>100000.0</td>\n",
       "      <td>100000.0</td>\n",
       "      <td>-47.8577</td>\n",
       "      <td>0.0</td>\n",
       "    </tr>\n",
       "    <tr>\n",
       "      <th>1</th>\n",
       "      <td>2024-04-15T06:57:25.153232789Z</td>\n",
       "      <td>USD_JPY</td>\n",
       "      <td>153.87900</td>\n",
       "      <td>50000.0</td>\n",
       "      <td>50000.0</td>\n",
       "      <td>10.9947</td>\n",
       "      <td>0.0</td>\n",
       "    </tr>\n",
       "    <tr>\n",
       "      <th>2</th>\n",
       "      <td>2024-04-15T06:57:26.954953077Z</td>\n",
       "      <td>GBP_USD</td>\n",
       "      <td>1.24732</td>\n",
       "      <td>100000.0</td>\n",
       "      <td>100000.0</td>\n",
       "      <td>-61.5313</td>\n",
       "      <td>0.0</td>\n",
       "    </tr>\n",
       "    <tr>\n",
       "      <th>3</th>\n",
       "      <td>2024-04-15T06:57:28.763468916Z</td>\n",
       "      <td>AUD_USD</td>\n",
       "      <td>0.64845</td>\n",
       "      <td>100000.0</td>\n",
       "      <td>100000.0</td>\n",
       "      <td>-35.5514</td>\n",
       "      <td>0.0</td>\n",
       "    </tr>\n",
       "  </tbody>\n",
       "</table>\n",
       "</div>"
      ],
      "text/plain": [
       "                         openTime Instrument      Price  Initial Units  \\\n",
       "0  2024-04-15T06:39:25.989142292Z    EUR_USD    1.06583       100000.0   \n",
       "1  2024-04-15T06:57:25.153232789Z    USD_JPY  153.87900        50000.0   \n",
       "2  2024-04-15T06:57:26.954953077Z    GBP_USD    1.24732       100000.0   \n",
       "3  2024-04-15T06:57:28.763468916Z    AUD_USD    0.64845       100000.0   \n",
       "\n",
       "   Current Units  Unrealized P&L  Realized P&L  \n",
       "0       100000.0        -47.8577           0.0  \n",
       "1        50000.0         10.9947           0.0  \n",
       "2       100000.0        -61.5313           0.0  \n",
       "3       100000.0        -35.5514           0.0  "
      ]
     },
     "execution_count": 12,
     "metadata": {},
     "output_type": "execute_result"
    }
   ],
   "source": [
    "api.get_order_history()"
   ]
  },
  {
   "cell_type": "code",
   "execution_count": 20,
   "metadata": {},
   "outputs": [],
   "source": [
    "forex_pairs = [\"EUR_USD\", \"USD_JPY\", \"GBP_USD\", \"AUD_USD\"]\n",
    "for forex_pair in forex_pairs:\n",
    "    params = {\n",
    "        \"instrument\" : str(forex_pair)\n",
    "    }\n",
    "    r = trades.TradesList(accountID=account_id, params=params)\n",
    "    data = client.request(r)"
   ]
  },
  {
   "cell_type": "code",
   "execution_count": 21,
   "metadata": {},
   "outputs": [
    {
     "data": {
      "text/plain": [
       "{'id': '3987',\n",
       " 'instrument': 'AUD_USD',\n",
       " 'price': '0.64845',\n",
       " 'openTime': '2024-04-15T06:57:28.763468916Z',\n",
       " 'initialUnits': '100000',\n",
       " 'initialMarginRequired': '4410.8000',\n",
       " 'state': 'OPEN',\n",
       " 'currentUnits': '100000',\n",
       " 'realizedPL': '0.0000',\n",
       " 'financing': '0.0000',\n",
       " 'dividendAdjustment': '0.0000',\n",
       " 'unrealizedPL': '-73.8463',\n",
       " 'marginUsed': '1424.4840',\n",
       " 'takeProfitOrder': {'id': '3988',\n",
       "  'createTime': '2024-04-15T06:57:28.763468916Z',\n",
       "  'type': 'TAKE_PROFIT',\n",
       "  'tradeID': '3987',\n",
       "  'price': '0.64970',\n",
       "  'timeInForce': 'GTC',\n",
       "  'triggerCondition': 'DEFAULT',\n",
       "  'state': 'PENDING'},\n",
       " 'stopLossOrder': {'id': '3989',\n",
       "  'createTime': '2024-04-15T06:57:28.763468916Z',\n",
       "  'type': 'STOP_LOSS',\n",
       "  'tradeID': '3987',\n",
       "  'price': '0.64770',\n",
       "  'timeInForce': 'GTC',\n",
       "  'triggerCondition': 'DEFAULT',\n",
       "  'triggerMode': 'TOP_OF_BOOK',\n",
       "  'state': 'PENDING'}}"
      ]
     },
     "execution_count": 21,
     "metadata": {},
     "output_type": "execute_result"
    }
   ],
   "source": [
    "data['trades'][0]"
   ]
  }
 ],
 "metadata": {
  "kernelspec": {
   "display_name": "antalpha",
   "language": "python",
   "name": "python3"
  },
  "language_info": {
   "codemirror_mode": {
    "name": "ipython",
    "version": 3
   },
   "file_extension": ".py",
   "mimetype": "text/x-python",
   "name": "python",
   "nbconvert_exporter": "python",
   "pygments_lexer": "ipython3",
   "version": "3.10.13"
  }
 },
 "nbformat": 4,
 "nbformat_minor": 2
}
